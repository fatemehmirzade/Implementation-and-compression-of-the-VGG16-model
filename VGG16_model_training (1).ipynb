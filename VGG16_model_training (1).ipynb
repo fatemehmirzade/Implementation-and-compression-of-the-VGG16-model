{
  "cells": [
    {
      "cell_type": "code",
      "execution_count": null,
      "id": "485e97da",
      "metadata": {
        "id": "485e97da"
      },
      "outputs": [],
      "source": [
        "import torch\n",
        "import torch.nn as nn\n",
        "from torchvision.datasets import CIFAR10\n",
        "import torchvision.transforms as transforms\n",
        "import matplotlib.pyplot as plt\n",
        "from tqdm import tqdm\n",
        "from torch.utils.data import DataLoader, random_split\n",
        "from torchsummary import summary\n",
        "import torch.optim as optim\n",
        "from torch.optim.lr_scheduler import StepLR\n",
        "from torchvision.models.feature_extraction import create_feature_extractor,get_graph_node_names\n",
        "import matplotlib.pyplot as plt\n",
        "from torchvision.models import vgg16_bn\n",
        "from torch.utils.data import Subset\n"
      ]
    },
    {
      "cell_type": "code",
      "execution_count": null,
      "id": "28d05412",
      "metadata": {
        "id": "28d05412",
        "outputId": "3cd196e3-8167-488b-c488-2631cb1239d3"
      },
      "outputs": [
        {
          "name": "stdout",
          "output_type": "stream",
          "text": [
            "cuda\n"
          ]
        }
      ],
      "source": [
        "device = torch.device(\"cuda\" if torch.cuda.is_available() else \"cpu\")\n",
        "print(device)"
      ]
    },
    {
      "cell_type": "code",
      "execution_count": null,
      "id": "3ed0fa6a",
      "metadata": {
        "id": "3ed0fa6a",
        "outputId": "89d5529b-933d-4df1-d3bf-90947b740905"
      },
      "outputs": [
        {
          "data": {
            "text/plain": [
              "<torch._C.Generator at 0x7ff71ffd43f0>"
            ]
          },
          "execution_count": 4,
          "metadata": {},
          "output_type": "execute_result"
        }
      ],
      "source": [
        "torch.manual_seed(43)"
      ]
    },
    {
      "cell_type": "code",
      "execution_count": null,
      "id": "89e41226",
      "metadata": {
        "id": "89e41226"
      },
      "outputs": [],
      "source": [
        "train_transform = transforms.Compose([\n",
        "    transforms.RandomHorizontalFlip(),\n",
        "    transforms.RandomCrop(32, padding=4),\n",
        "    transforms.ToTensor(),\n",
        "    transforms.Normalize(mean =[0.4914, 0.4822, 0.4465],std =[0.2023, 0.1994, 0.2010])\n",
        "])\n",
        "val_transform = transforms.Compose([\n",
        "    transforms.ToTensor(),\n",
        "    transforms.Normalize(mean =[0.4914, 0.4822, 0.4465],std =[0.2023, 0.1994, 0.2010])\n",
        "])"
      ]
    },
    {
      "cell_type": "code",
      "execution_count": null,
      "id": "eef29320",
      "metadata": {
        "scrolled": true,
        "id": "eef29320",
        "outputId": "7348ba74-2fae-4040-ace9-f83a59494ba5"
      },
      "outputs": [
        {
          "name": "stdout",
          "output_type": "stream",
          "text": [
            "Files already downloaded and verified\n",
            "Files already downloaded and verified\n",
            "train_size is: 45000 , valid_size is: 5000 , test_size is: 10000\n"
          ]
        }
      ],
      "source": [
        "train_dataset = CIFAR10(root = './cifar10', train=True, download=True, transform=train_transform)\n",
        "test_dataset = CIFAR10(root='./cifar10', train=False, download=True, transform=val_transform)\n",
        "\n",
        "train_size = int(0.9 * len(train_dataset))\n",
        "val_size = len(train_dataset) - train_size\n",
        "train_dataset, val_dataset = random_split(train_dataset, [train_size, val_size])\n",
        "print(f'train_size is: {len(train_dataset)} , valid_size is: {len(val_dataset)} , test_size is: {len(test_dataset)}')"
      ]
    },
    {
      "cell_type": "code",
      "execution_count": null,
      "id": "68b73f78",
      "metadata": {
        "id": "68b73f78"
      },
      "outputs": [],
      "source": [
        "batch_size = 128\n",
        "# Define DataLoader for training, validation, and test sets\n",
        "train_loader = DataLoader(train_dataset, batch_size=batch_size, shuffle=True, num_workers=4, pin_memory=True)\n",
        "val_loader = DataLoader(val_dataset, batch_size=batch_size, shuffle=False, num_workers=4, pin_memory=True)\n",
        "test_loader = DataLoader(test_dataset, batch_size=batch_size, shuffle=False, num_workers=4, pin_memory=True)\n",
        "\n"
      ]
    },
    {
      "cell_type": "code",
      "execution_count": null,
      "id": "66bd1404",
      "metadata": {
        "id": "66bd1404"
      },
      "outputs": [],
      "source": [
        "class VGG16(nn.Module):\n",
        "    def __init__(self):\n",
        "        super(VGG16, self).__init__()\n",
        "        self.features = nn.Sequential(\n",
        "            nn.Conv2d(3, 64, kernel_size=3, padding=1),\n",
        "            nn.BatchNorm2d(64),\n",
        "            nn.ReLU(inplace=True),\n",
        "            nn.Conv2d(64, 64, kernel_size=3, padding=1),\n",
        "            nn.BatchNorm2d(64),\n",
        "            nn.ReLU(inplace=True),\n",
        "            nn.MaxPool2d(kernel_size=2, stride=2),\n",
        "\n",
        "            nn.Conv2d(64, 128, kernel_size=3, padding=1),\n",
        "            nn.BatchNorm2d(128),\n",
        "            nn.ReLU(inplace=True),\n",
        "            nn.Conv2d(128, 128, kernel_size=3, padding=1),\n",
        "            nn.BatchNorm2d(128),\n",
        "            nn.ReLU(inplace=True),\n",
        "            nn.MaxPool2d(kernel_size=2, stride=2),\n",
        "\n",
        "            nn.Conv2d(128, 256, kernel_size=3, padding=1),\n",
        "            nn.BatchNorm2d(256),\n",
        "            nn.ReLU(inplace=True),\n",
        "            nn.Conv2d(256, 256, kernel_size=3, padding=1),\n",
        "            nn.BatchNorm2d(256),\n",
        "            nn.ReLU(inplace=True),\n",
        "            nn.Conv2d(256, 256, kernel_size=3, padding=1),\n",
        "            nn.BatchNorm2d(256),\n",
        "            nn.ReLU(inplace=True),\n",
        "            nn.MaxPool2d(kernel_size=2, stride=2),\n",
        "\n",
        "            nn.Conv2d(256, 512, kernel_size=3, padding=1),\n",
        "            nn.BatchNorm2d(512),\n",
        "            nn.ReLU(inplace=True),\n",
        "            nn.Conv2d(512, 512, kernel_size=3, padding=1),\n",
        "            nn.BatchNorm2d(512),\n",
        "            nn.ReLU(inplace=True),\n",
        "            nn.Conv2d(512, 512, kernel_size=3, padding=1),\n",
        "            nn.BatchNorm2d(512),\n",
        "            nn.ReLU(inplace=True),\n",
        "            nn.MaxPool2d(kernel_size=2, stride=2),\n",
        "\n",
        "            nn.Conv2d(512, 512, kernel_size=3, padding=1),\n",
        "            nn.BatchNorm2d(512),\n",
        "            nn.ReLU(inplace=True),\n",
        "            nn.Conv2d(512, 512, kernel_size=3, padding=1),\n",
        "            nn.BatchNorm2d(512),\n",
        "            nn.ReLU(inplace=True),\n",
        "            nn.Conv2d(512, 512, kernel_size=3, padding=1),\n",
        "            nn.BatchNorm2d(512),\n",
        "            nn.ReLU(inplace=True),\n",
        "            nn.MaxPool2d(kernel_size=2, stride=2),\n",
        "        )\n",
        "        self.avgpool = nn.AdaptiveAvgPool2d((7, 7))\n",
        "        self.classifier = nn.Sequential(\n",
        "            nn.Linear(512 * 7 * 7, 4096),\n",
        "            nn.ReLU(inplace=True),\n",
        "            nn.Dropout(),\n",
        "            nn.Linear(4096, 4096),\n",
        "            nn.ReLU(inplace=True),\n",
        "            nn.Dropout(),\n",
        "            nn.Linear(4096, 10),\n",
        "        )\n",
        "\n",
        "    def forward(self, x):\n",
        "        x = self.features(x)\n",
        "        x = self.avgpool(x)\n",
        "        x = x.view(x.size(0), -1)\n",
        "        x = self.classifier(x)\n",
        "        return x"
      ]
    },
    {
      "cell_type": "code",
      "execution_count": null,
      "id": "89dac440",
      "metadata": {
        "scrolled": false,
        "id": "89dac440",
        "outputId": "43941871-cddc-40af-99d1-1c804e7bc9d9"
      },
      "outputs": [
        {
          "name": "stdout",
          "output_type": "stream",
          "text": [
            "VGG16(\n",
            "  (features): Sequential(\n",
            "    (0): Conv2d(3, 64, kernel_size=(3, 3), stride=(1, 1), padding=(1, 1))\n",
            "    (1): BatchNorm2d(64, eps=1e-05, momentum=0.1, affine=True, track_running_stats=True)\n",
            "    (2): ReLU(inplace=True)\n",
            "    (3): Conv2d(64, 64, kernel_size=(3, 3), stride=(1, 1), padding=(1, 1))\n",
            "    (4): BatchNorm2d(64, eps=1e-05, momentum=0.1, affine=True, track_running_stats=True)\n",
            "    (5): ReLU(inplace=True)\n",
            "    (6): MaxPool2d(kernel_size=2, stride=2, padding=0, dilation=1, ceil_mode=False)\n",
            "    (7): Conv2d(64, 128, kernel_size=(3, 3), stride=(1, 1), padding=(1, 1))\n",
            "    (8): BatchNorm2d(128, eps=1e-05, momentum=0.1, affine=True, track_running_stats=True)\n",
            "    (9): ReLU(inplace=True)\n",
            "    (10): Conv2d(128, 128, kernel_size=(3, 3), stride=(1, 1), padding=(1, 1))\n",
            "    (11): BatchNorm2d(128, eps=1e-05, momentum=0.1, affine=True, track_running_stats=True)\n",
            "    (12): ReLU(inplace=True)\n",
            "    (13): MaxPool2d(kernel_size=2, stride=2, padding=0, dilation=1, ceil_mode=False)\n",
            "    (14): Conv2d(128, 256, kernel_size=(3, 3), stride=(1, 1), padding=(1, 1))\n",
            "    (15): BatchNorm2d(256, eps=1e-05, momentum=0.1, affine=True, track_running_stats=True)\n",
            "    (16): ReLU(inplace=True)\n",
            "    (17): Conv2d(256, 256, kernel_size=(3, 3), stride=(1, 1), padding=(1, 1))\n",
            "    (18): BatchNorm2d(256, eps=1e-05, momentum=0.1, affine=True, track_running_stats=True)\n",
            "    (19): ReLU(inplace=True)\n",
            "    (20): Conv2d(256, 256, kernel_size=(3, 3), stride=(1, 1), padding=(1, 1))\n",
            "    (21): BatchNorm2d(256, eps=1e-05, momentum=0.1, affine=True, track_running_stats=True)\n",
            "    (22): ReLU(inplace=True)\n",
            "    (23): MaxPool2d(kernel_size=2, stride=2, padding=0, dilation=1, ceil_mode=False)\n",
            "    (24): Conv2d(256, 512, kernel_size=(3, 3), stride=(1, 1), padding=(1, 1))\n",
            "    (25): BatchNorm2d(512, eps=1e-05, momentum=0.1, affine=True, track_running_stats=True)\n",
            "    (26): ReLU(inplace=True)\n",
            "    (27): Conv2d(512, 512, kernel_size=(3, 3), stride=(1, 1), padding=(1, 1))\n",
            "    (28): BatchNorm2d(512, eps=1e-05, momentum=0.1, affine=True, track_running_stats=True)\n",
            "    (29): ReLU(inplace=True)\n",
            "    (30): Conv2d(512, 512, kernel_size=(3, 3), stride=(1, 1), padding=(1, 1))\n",
            "    (31): BatchNorm2d(512, eps=1e-05, momentum=0.1, affine=True, track_running_stats=True)\n",
            "    (32): ReLU(inplace=True)\n",
            "    (33): MaxPool2d(kernel_size=2, stride=2, padding=0, dilation=1, ceil_mode=False)\n",
            "    (34): Conv2d(512, 512, kernel_size=(3, 3), stride=(1, 1), padding=(1, 1))\n",
            "    (35): BatchNorm2d(512, eps=1e-05, momentum=0.1, affine=True, track_running_stats=True)\n",
            "    (36): ReLU(inplace=True)\n",
            "    (37): Conv2d(512, 512, kernel_size=(3, 3), stride=(1, 1), padding=(1, 1))\n",
            "    (38): BatchNorm2d(512, eps=1e-05, momentum=0.1, affine=True, track_running_stats=True)\n",
            "    (39): ReLU(inplace=True)\n",
            "    (40): Conv2d(512, 512, kernel_size=(3, 3), stride=(1, 1), padding=(1, 1))\n",
            "    (41): BatchNorm2d(512, eps=1e-05, momentum=0.1, affine=True, track_running_stats=True)\n",
            "    (42): ReLU(inplace=True)\n",
            "    (43): MaxPool2d(kernel_size=2, stride=2, padding=0, dilation=1, ceil_mode=False)\n",
            "  )\n",
            "  (avgpool): AdaptiveAvgPool2d(output_size=(7, 7))\n",
            "  (classifier): Sequential(\n",
            "    (0): Linear(in_features=25088, out_features=4096, bias=True)\n",
            "    (1): ReLU(inplace=True)\n",
            "    (2): Dropout(p=0.5, inplace=False)\n",
            "    (3): Linear(in_features=4096, out_features=4096, bias=True)\n",
            "    (4): ReLU(inplace=True)\n",
            "    (5): Dropout(p=0.5, inplace=False)\n",
            "    (6): Linear(in_features=4096, out_features=10, bias=True)\n",
            "  )\n",
            ")\n"
          ]
        }
      ],
      "source": [
        "model = VGG16().to(device)\n",
        "print(model)"
      ]
    },
    {
      "cell_type": "code",
      "execution_count": null,
      "id": "2a61472c",
      "metadata": {
        "id": "2a61472c",
        "outputId": "6fa01ca3-1a70-49cb-ad58-54bb5de1dc32"
      },
      "outputs": [
        {
          "name": "stdout",
          "output_type": "stream",
          "text": [
            "----------------------------------------------------------------\n",
            "        Layer (type)               Output Shape         Param #\n",
            "================================================================\n",
            "            Conv2d-1           [-1, 64, 32, 32]           1,792\n",
            "       BatchNorm2d-2           [-1, 64, 32, 32]             128\n",
            "              ReLU-3           [-1, 64, 32, 32]               0\n",
            "            Conv2d-4           [-1, 64, 32, 32]          36,928\n",
            "       BatchNorm2d-5           [-1, 64, 32, 32]             128\n",
            "              ReLU-6           [-1, 64, 32, 32]               0\n",
            "         MaxPool2d-7           [-1, 64, 16, 16]               0\n",
            "            Conv2d-8          [-1, 128, 16, 16]          73,856\n",
            "       BatchNorm2d-9          [-1, 128, 16, 16]             256\n",
            "             ReLU-10          [-1, 128, 16, 16]               0\n",
            "           Conv2d-11          [-1, 128, 16, 16]         147,584\n",
            "      BatchNorm2d-12          [-1, 128, 16, 16]             256\n",
            "             ReLU-13          [-1, 128, 16, 16]               0\n",
            "        MaxPool2d-14            [-1, 128, 8, 8]               0\n",
            "           Conv2d-15            [-1, 256, 8, 8]         295,168\n",
            "      BatchNorm2d-16            [-1, 256, 8, 8]             512\n",
            "             ReLU-17            [-1, 256, 8, 8]               0\n",
            "           Conv2d-18            [-1, 256, 8, 8]         590,080\n",
            "      BatchNorm2d-19            [-1, 256, 8, 8]             512\n",
            "             ReLU-20            [-1, 256, 8, 8]               0\n",
            "           Conv2d-21            [-1, 256, 8, 8]         590,080\n",
            "      BatchNorm2d-22            [-1, 256, 8, 8]             512\n",
            "             ReLU-23            [-1, 256, 8, 8]               0\n",
            "        MaxPool2d-24            [-1, 256, 4, 4]               0\n",
            "           Conv2d-25            [-1, 512, 4, 4]       1,180,160\n",
            "      BatchNorm2d-26            [-1, 512, 4, 4]           1,024\n",
            "             ReLU-27            [-1, 512, 4, 4]               0\n",
            "           Conv2d-28            [-1, 512, 4, 4]       2,359,808\n",
            "      BatchNorm2d-29            [-1, 512, 4, 4]           1,024\n",
            "             ReLU-30            [-1, 512, 4, 4]               0\n",
            "           Conv2d-31            [-1, 512, 4, 4]       2,359,808\n",
            "      BatchNorm2d-32            [-1, 512, 4, 4]           1,024\n",
            "             ReLU-33            [-1, 512, 4, 4]               0\n",
            "        MaxPool2d-34            [-1, 512, 2, 2]               0\n",
            "           Conv2d-35            [-1, 512, 2, 2]       2,359,808\n",
            "      BatchNorm2d-36            [-1, 512, 2, 2]           1,024\n",
            "             ReLU-37            [-1, 512, 2, 2]               0\n",
            "           Conv2d-38            [-1, 512, 2, 2]       2,359,808\n",
            "      BatchNorm2d-39            [-1, 512, 2, 2]           1,024\n",
            "             ReLU-40            [-1, 512, 2, 2]               0\n",
            "           Conv2d-41            [-1, 512, 2, 2]       2,359,808\n",
            "      BatchNorm2d-42            [-1, 512, 2, 2]           1,024\n",
            "             ReLU-43            [-1, 512, 2, 2]               0\n",
            "        MaxPool2d-44            [-1, 512, 1, 1]               0\n",
            "AdaptiveAvgPool2d-45            [-1, 512, 7, 7]               0\n",
            "           Linear-46                 [-1, 4096]     102,764,544\n",
            "             ReLU-47                 [-1, 4096]               0\n",
            "          Dropout-48                 [-1, 4096]               0\n",
            "           Linear-49                 [-1, 4096]      16,781,312\n",
            "             ReLU-50                 [-1, 4096]               0\n",
            "          Dropout-51                 [-1, 4096]               0\n",
            "           Linear-52                   [-1, 10]          40,970\n",
            "================================================================\n",
            "Total params: 134,309,962\n",
            "Trainable params: 134,309,962\n",
            "Non-trainable params: 0\n",
            "----------------------------------------------------------------\n",
            "Input size (MB): 0.01\n",
            "Forward/backward pass size (MB): 6.95\n",
            "Params size (MB): 512.35\n",
            "Estimated Total Size (MB): 519.31\n",
            "----------------------------------------------------------------\n"
          ]
        }
      ],
      "source": [
        "summary(model,(3,32,32))"
      ]
    },
    {
      "cell_type": "code",
      "execution_count": null,
      "id": "b8065a80",
      "metadata": {
        "id": "b8065a80"
      },
      "outputs": [],
      "source": [
        "criterion = nn.CrossEntropyLoss()\n",
        "optimizer = optim.SGD(model.parameters(), lr=0.01, momentum=0.9, weight_decay=5e-4)\n",
        "scheduler = StepLR(optimizer, step_size=30, gamma=0.1)"
      ]
    },
    {
      "cell_type": "markdown",
      "id": "526e6862",
      "metadata": {
        "id": "526e6862"
      },
      "source": [
        "# end to end training"
      ]
    },
    {
      "cell_type": "code",
      "execution_count": null,
      "id": "0a754ba8",
      "metadata": {
        "scrolled": false,
        "id": "0a754ba8",
        "outputId": "3c6834c7-cf77-4c56-ae1c-c9adf4f73b9d"
      },
      "outputs": [
        {
          "name": "stderr",
          "output_type": "stream",
          "text": [
            "epoch 1/100: 100%|███████████████████████████████████████████| 352/352 [00:25<00:00, 13.88batch/s, loss=1.25, acc=0.351]\n",
            "Validation: 100%|██████████████████████████████████████████████| 40/40 [00:00<00:00, 40.70batch/s, Loss=1.43, Acc=0.457]\n",
            "epoch 2/100: 100%|████████████████████████████████████████████| 352/352 [00:24<00:00, 14.56batch/s, loss=1.2, acc=0.571]\n",
            "Validation: 100%|██████████████████████████████████████████████| 40/40 [00:01<00:00, 36.37batch/s, Loss=0.78, Acc=0.631]\n",
            "epoch 3/100: 100%|███████████████████████████████████████████| 352/352 [00:25<00:00, 13.94batch/s, loss=0.932, acc=0.67]\n",
            "Validation: 100%|█████████████████████████████████████████████| 40/40 [00:01<00:00, 37.86batch/s, Loss=0.965, Acc=0.653]\n",
            "epoch 4/100: 100%|██████████████████████████████████████████| 352/352 [00:25<00:00, 13.79batch/s, loss=0.783, acc=0.726]\n",
            "Validation: 100%|█████████████████████████████████████████████| 40/40 [00:01<00:00, 36.07batch/s, Loss=0.625, Acc=0.741]\n",
            "epoch 5/100: 100%|██████████████████████████████████████████| 352/352 [00:25<00:00, 13.71batch/s, loss=0.638, acc=0.764]\n",
            "Validation: 100%|█████████████████████████████████████████████| 40/40 [00:00<00:00, 41.82batch/s, Loss=0.712, Acc=0.748]\n",
            "epoch 6/100: 100%|██████████████████████████████████████████| 352/352 [00:24<00:00, 14.20batch/s, loss=0.471, acc=0.793]\n",
            "Validation: 100%|█████████████████████████████████████████████| 40/40 [00:01<00:00, 39.90batch/s, Loss=0.436, Acc=0.743]\n",
            "epoch 7/100: 100%|███████████████████████████████████████████| 352/352 [00:24<00:00, 14.13batch/s, loss=0.63, acc=0.809]\n",
            "Validation: 100%|█████████████████████████████████████████████| 40/40 [00:00<00:00, 42.60batch/s, Loss=0.162, Acc=0.783]\n",
            "epoch 8/100: 100%|███████████████████████████████████████████| 352/352 [00:25<00:00, 13.67batch/s, loss=0.41, acc=0.826]\n",
            "Validation: 100%|██████████████████████████████████████████████| 40/40 [00:01<00:00, 35.01batch/s, Loss=0.305, Acc=0.79]\n",
            "epoch 9/100: 100%|███████████████████████████████████████████| 352/352 [00:25<00:00, 13.63batch/s, loss=0.435, acc=0.84]\n",
            "Validation: 100%|█████████████████████████████████████████████| 40/40 [00:00<00:00, 42.78batch/s, Loss=0.462, Acc=0.813]\n",
            "epoch 10/100: 100%|██████████████████████████████████████████| 352/352 [00:25<00:00, 14.03batch/s, loss=0.487, acc=0.85]\n",
            "Validation: 100%|█████████████████████████████████████████████| 40/40 [00:01<00:00, 38.22batch/s, Loss=0.217, Acc=0.817]\n",
            "epoch 11/100: 100%|██████████████████████████████████████████| 352/352 [00:25<00:00, 13.94batch/s, loss=0.332, acc=0.86]\n",
            "Validation: 100%|█████████████████████████████████████████████| 40/40 [00:00<00:00, 41.41batch/s, Loss=0.423, Acc=0.781]\n",
            "epoch 12/100: 100%|█████████████████████████████████████████| 352/352 [00:25<00:00, 14.00batch/s, loss=0.736, acc=0.867]\n",
            "Validation: 100%|█████████████████████████████████████████████| 40/40 [00:01<00:00, 39.37batch/s, Loss=0.114, Acc=0.824]\n",
            "epoch 13/100: 100%|█████████████████████████████████████████| 352/352 [00:25<00:00, 13.68batch/s, loss=0.296, acc=0.876]\n",
            "Validation: 100%|█████████████████████████████████████████████| 40/40 [00:01<00:00, 36.23batch/s, Loss=0.144, Acc=0.832]\n",
            "epoch 14/100: 100%|█████████████████████████████████████████| 352/352 [00:26<00:00, 13.39batch/s, loss=0.351, acc=0.882]\n",
            "Validation: 100%|██████████████████████████████████████████████| 40/40 [00:00<00:00, 41.27batch/s, Loss=0.182, Acc=0.84]\n",
            "epoch 15/100: 100%|█████████████████████████████████████████| 352/352 [00:25<00:00, 13.94batch/s, loss=0.412, acc=0.888]\n",
            "Validation: 100%|█████████████████████████████████████████████| 40/40 [00:00<00:00, 41.70batch/s, Loss=0.0984, Acc=0.85]\n",
            "epoch 16/100: 100%|█████████████████████████████████████████| 352/352 [00:25<00:00, 13.58batch/s, loss=0.324, acc=0.893]\n",
            "Validation: 100%|████████████████████████████████████████████| 40/40 [00:01<00:00, 37.53batch/s, Loss=0.0294, Acc=0.856]\n",
            "epoch 17/100: 100%|█████████████████████████████████████████| 352/352 [00:26<00:00, 13.18batch/s, loss=0.286, acc=0.897]\n",
            "Validation: 100%|█████████████████████████████████████████████| 40/40 [00:01<00:00, 36.91batch/s, Loss=0.101, Acc=0.855]\n",
            "epoch 18/100: 100%|███████████████████████████████████████████| 352/352 [00:26<00:00, 13.34batch/s, loss=0.133, acc=0.9]\n",
            "Validation: 100%|█████████████████████████████████████████████| 40/40 [00:01<00:00, 39.47batch/s, Loss=0.108, Acc=0.826]\n",
            "epoch 19/100: 100%|█████████████████████████████████████████| 352/352 [00:28<00:00, 12.55batch/s, loss=0.406, acc=0.906]\n",
            "Validation: 100%|████████████████████████████████████████████| 40/40 [00:01<00:00, 28.61batch/s, Loss=0.0396, Acc=0.867]\n",
            "epoch 20/100: 100%|█████████████████████████████████████████| 352/352 [00:42<00:00,  8.22batch/s, loss=0.243, acc=0.912]\n",
            "Validation: 100%|█████████████████████████████████████████████| 40/40 [00:01<00:00, 30.27batch/s, Loss=0.0104, Acc=0.87]\n",
            "epoch 21/100: 100%|█████████████████████████████████████████| 352/352 [00:40<00:00,  8.60batch/s, loss=0.307, acc=0.916]\n",
            "Validation: 100%|████████████████████████████████████████████| 40/40 [00:01<00:00, 31.10batch/s, Loss=0.0482, Acc=0.854]\n",
            "epoch 22/100: 100%|██████████████████████████████████████████| 352/352 [00:25<00:00, 14.03batch/s, loss=0.22, acc=0.919]\n",
            "Validation: 100%|████████████████████████████████████████████| 40/40 [00:00<00:00, 42.79batch/s, Loss=0.0811, Acc=0.852]\n",
            "epoch 23/100: 100%|█████████████████████████████████████████| 352/352 [00:24<00:00, 14.16batch/s, loss=0.283, acc=0.922]\n",
            "Validation: 100%|████████████████████████████████████████████| 40/40 [00:00<00:00, 42.36batch/s, Loss=0.0579, Acc=0.834]\n",
            "epoch 24/100: 100%|█████████████████████████████████████████| 352/352 [00:24<00:00, 14.11batch/s, loss=0.345, acc=0.922]\n",
            "Validation: 100%|████████████████████████████████████████████| 40/40 [00:00<00:00, 42.34batch/s, Loss=0.0321, Acc=0.871]\n",
            "epoch 25/100: 100%|█████████████████████████████████████████| 352/352 [00:25<00:00, 14.03batch/s, loss=0.322, acc=0.927]\n",
            "Validation: 100%|████████████████████████████████████████████| 40/40 [00:00<00:00, 40.70batch/s, Loss=0.0866, Acc=0.855]\n",
            "epoch 26/100: 100%|█████████████████████████████████████████| 352/352 [00:25<00:00, 14.00batch/s, loss=0.217, acc=0.929]\n",
            "Validation: 100%|█████████████████████████████████████████████| 40/40 [00:00<00:00, 40.96batch/s, Loss=0.176, Acc=0.877]\n",
            "epoch 27/100: 100%|█████████████████████████████████████████| 352/352 [00:25<00:00, 13.90batch/s, loss=0.139, acc=0.932]\n",
            "Validation: 100%|████████████████████████████████████████████| 40/40 [00:01<00:00, 33.64batch/s, Loss=0.0649, Acc=0.874]\n",
            "epoch 28/100: 100%|█████████████████████████████████████████| 352/352 [00:26<00:00, 13.52batch/s, loss=0.297, acc=0.934]\n",
            "Validation: 100%|█████████████████████████████████████████████| 40/40 [00:01<00:00, 39.34batch/s, Loss=0.092, Acc=0.869]\n",
            "epoch 29/100: 100%|██████████████████████████████████████████| 352/352 [00:26<00:00, 13.51batch/s, loss=0.22, acc=0.935]\n",
            "Validation: 100%|████████████████████████████████████████████| 40/40 [00:01<00:00, 39.41batch/s, Loss=0.0595, Acc=0.869]\n",
            "epoch 30/100: 100%|█████████████████████████████████████████| 352/352 [00:25<00:00, 13.91batch/s, loss=0.176, acc=0.938]\n",
            "Validation: 100%|███████████████████████████████████████████| 40/40 [00:01<00:00, 38.38batch/s, Loss=0.00602, Acc=0.874]\n",
            "epoch 31/100: 100%|████████████████████████████████████████| 352/352 [00:31<00:00, 11.35batch/s, loss=0.0136, acc=0.965]\n",
            "Validation: 100%|████████████████████████████████████████████| 40/40 [00:01<00:00, 28.49batch/s, Loss=0.0148, Acc=0.909]"
          ]
        },
        {
          "name": "stdout",
          "output_type": "stream",
          "text": [
            "Target accuracy (90.0%) reached\n"
          ]
        },
        {
          "name": "stderr",
          "output_type": "stream",
          "text": [
            "\n"
          ]
        }
      ],
      "source": [
        "epochs = 100\n",
        "target_val_acc = 0.9\n",
        "train_loss_list, val_loss_list, train_acc_list, val_acc_list = [], [], [], []\n",
        "\n",
        "for epoch in range(epochs):\n",
        "    model.train()\n",
        "    train_loss, correct_train, total_train = 0, 0, 0\n",
        "\n",
        "    with tqdm(total=len(train_loader), desc=f'epoch {epoch + 1}/{epochs}', unit='batch') as pbar:\n",
        "        for inputs, labels in train_loader:\n",
        "            inputs, labels = inputs.to(device), labels.to(device)\n",
        "\n",
        "            optimizer.zero_grad()\n",
        "            outputs = model(inputs)\n",
        "            loss = criterion(outputs, labels)\n",
        "            loss.backward()\n",
        "            optimizer.step()\n",
        "\n",
        "            _, predicted = torch.max(outputs, 1)\n",
        "            correct_train += (predicted == labels).sum().item()\n",
        "            total_train += labels.size(0)\n",
        "            train_loss += loss.item()\n",
        "\n",
        "            pbar.set_postfix({'loss': loss.item(), 'acc': correct_train / total_train})\n",
        "            pbar.update()\n",
        "\n",
        "        avg_train_loss = train_loss / len(train_loader)\n",
        "        avg_train_acc = correct_train / total_train\n",
        "        train_loss_list.append(avg_train_loss)\n",
        "        train_acc_list.append(avg_train_acc)\n",
        "\n",
        "    scheduler.step()\n",
        "\n",
        "    # Validation\n",
        "    model.eval()\n",
        "    val_loss, correct_val, total_val = 0, 0, 0\n",
        "    with tqdm(total=len(val_loader), desc=f'Validation', unit='batch') as pbar:\n",
        "        with torch.no_grad():\n",
        "            for inputs, labels in val_loader:\n",
        "                inputs, labels = inputs.to(device), labels.to(device)\n",
        "                outputs = model(inputs)\n",
        "                loss = criterion(outputs, labels)\n",
        "\n",
        "                _, predicted = torch.max(outputs, 1)\n",
        "                correct_val += (predicted == labels).sum().item()\n",
        "                total_val += labels.size(0)\n",
        "                val_loss += loss.item()\n",
        "\n",
        "                pbar.set_postfix({'Loss': loss.item(), 'Acc': correct_val / total_val})\n",
        "                pbar.update()\n",
        "\n",
        "            avg_val_loss = val_loss / len(val_loader)\n",
        "            avg_val_acc = correct_val / total_val\n",
        "            val_loss_list.append(avg_val_loss)\n",
        "            val_acc_list.append(avg_val_acc)\n",
        "\n",
        "    if avg_val_acc >= target_val_acc:\n",
        "        print(f'Target accuracy ({target_val_acc * 100}%) reached')\n",
        "        break\n"
      ]
    },
    {
      "cell_type": "code",
      "execution_count": null,
      "id": "b6bb951f",
      "metadata": {
        "id": "b6bb951f",
        "outputId": "1120573a-11ee-495e-883f-6964d0a2bf42"
      },
      "outputs": [
        {
          "data": {
            "image/png": "[encoded data removed]",
            "text/plain": [
              "<Figure size 864x288 with 2 Axes>"
            ]
          },
          "metadata": {
            "needs_background": "light"
          },
          "output_type": "display_data"
        }
      ],
      "source": [
        "# Plotting\n",
        "plt.figure(figsize=(12, 4))\n",
        "plt.subplot(1, 2, 1)\n",
        "plt.plot(train_loss_list, label='Train Loss')\n",
        "plt.plot(val_loss_list, label='Validation Loss')\n",
        "plt.xlabel('Epoch')\n",
        "plt.ylabel('Loss')\n",
        "plt.legend()\n",
        "\n",
        "plt.subplot(1, 2, 2)\n",
        "plt.plot(train_acc_list, label='Train Accuracy')\n",
        "plt.plot(val_acc_list, label='Validation Accuracy')\n",
        "plt.xlabel('Epoch')\n",
        "plt.ylabel('Accuracy')\n",
        "plt.legend()\n",
        "\n",
        "plt.show()"
      ]
    },
    {
      "cell_type": "code",
      "execution_count": null,
      "id": "ee2a5134",
      "metadata": {
        "id": "ee2a5134",
        "outputId": "c736a694-2fcb-4091-9288-f8836b89ffb6"
      },
      "outputs": [
        {
          "name": "stdout",
          "output_type": "stream",
          "text": [
            "test accuracy: 91.02%\n"
          ]
        }
      ],
      "source": [
        "model.eval()\n",
        "correct_test, total_test = 0,0\n",
        "\n",
        "with torch.no_grad():\n",
        "    for inputs, labels in test_loader:\n",
        "        inputs, labels = inputs.to(device), labels.to(device)\n",
        "        outputs = model(inputs)\n",
        "\n",
        "        _, predicted = torch.max(outputs,1)\n",
        "        correct_test += (predicted == labels).sum().item()\n",
        "        total_test += labels.size(0)\n",
        "\n",
        "test_accuracy = correct_test / total_test\n",
        "print(f'test accuracy: {test_accuracy *100:.2f}%')"
      ]
    },
    {
      "cell_type": "code",
      "execution_count": null,
      "id": "9af92bd2",
      "metadata": {
        "id": "9af92bd2"
      },
      "outputs": [],
      "source": [
        "best_val_acc = max(val_acc_list)\n",
        "best_epoch = val_acc_list.index(best_val_acc) + 1  # Add 1 because epochs start from 1\n",
        "\n",
        "best_model_state = model.state_dict()\n",
        "torch.save(best_model_state, 'best_model_weights.pth')\n",
        "\n",
        "additional_info = {\n",
        "    'epoch': best_epoch,\n",
        "    'optimizer_state': optimizer.state_dict(),\n",
        "    'scheduler_state': scheduler.state_dict(),\n",
        "    # Add more as needed\n",
        "}\n",
        "\n",
        "torch.save(additional_info, 'additional_info.pth')"
      ]
    },
    {
      "cell_type": "code",
      "execution_count": null,
      "id": "5c8e07fb",
      "metadata": {
        "id": "5c8e07fb",
        "outputId": "7b108eb3-9f0f-4acb-9416-20bf78e5d076"
      },
      "outputs": [
        {
          "name": "stdout",
          "output_type": "stream",
          "text": [
            "0 features\n",
            "1 avgpool\n",
            "2 classifier\n"
          ]
        }
      ],
      "source": [
        "for num, layer in enumerate(model._modules.keys()):\n",
        "    print(num , layer)"
      ]
    },
    {
      "cell_type": "code",
      "execution_count": null,
      "id": "3ffb0739",
      "metadata": {
        "id": "3ffb0739"
      },
      "outputs": [],
      "source": [
        "import torch\n",
        "from torch.utils.data import Subset, DataLoader\n",
        "\n",
        "num_classes = 10\n",
        "samples_per_class_train = 4500 // num_classes\n",
        "samples_per_class_test = 1000 // num_classes\n",
        "\n",
        "selected_indices_train = []\n",
        "class_counter_train = [0] * num_classes\n",
        "\n",
        "for index, (data, label) in enumerate(train_dataset):\n",
        "    if class_counter_train[label] < samples_per_class_train:\n",
        "        selected_indices_train.append(index)\n",
        "        class_counter_train[label] += 1\n",
        "\n",
        "    if all(count == samples_per_class_train for count in class_counter_train):\n",
        "        break\n",
        "\n",
        "balanced_train_subset = Subset(train_dataset, selected_indices_train)\n",
        "\n",
        "selected_indices_test = []\n",
        "class_counter_test = [0] * num_classes\n",
        "\n",
        "for index, (data, label) in enumerate(test_dataset):\n",
        "    if class_counter_test[label] < samples_per_class_test:\n",
        "        selected_indices_test.append(index)\n",
        "        class_counter_test[label] += 1\n",
        "\n",
        "    if all(count == samples_per_class_test for count in class_counter_test):\n",
        "        break\n",
        "\n",
        "balanced_test_subset = Subset(test_dataset, selected_indices_test)\n",
        "\n",
        "balanced10_train_loader = DataLoader(balanced_train_subset, batch_size = 3000, shuffle=True)\n",
        "balanced10_test_loader = DataLoader(balanced_test_subset, batch_size = 1000, shuffle=False)"
      ]
    },
    {
      "cell_type": "code",
      "execution_count": null,
      "id": "c9eee4e0",
      "metadata": {
        "id": "c9eee4e0"
      },
      "outputs": [],
      "source": [
        "def center_si(data, labels, classes):\n",
        "    data = data.view(data.size(0), -1).to(device)\n",
        "    class_centers = torch.zeros((len(classes), data.shape[-1]), device = data.device)\n",
        "\n",
        "    for i in classes:\n",
        "        data_class = data[labels == i, :]\n",
        "        class_centers[i, :] = data_class.mean(0)\n",
        "\n",
        "    center_dist = torch.cdist(data, class_centers, p=2)\n",
        "    _, indices = torch.sort(center_dist)\n",
        "    near_class_centers = indices[:, 0]\n",
        "    correct_data = (labels == near_class_centers) * 1.0\n",
        "\n",
        "    return correct_data.sum(0) / len(data)"
      ]
    },
    {
      "cell_type": "code",
      "source": [
        "hooks = []\n",
        "names = []\n",
        "for name,module in model.named_modules():\n",
        "    names.append(name)\n",
        "    hooks.append(name)\n",
        "hooks = list(set(hooks).intersection(set(get_graph_node_names(model)[0])))\n",
        "print((hooks))\n",
        "print((names))\n",
        "\n",
        "selected_hook_names = []\n",
        "selected_hook_classes = []\n",
        "\n",
        "for module_name, module in model.named_modules():\n",
        "    if module_name in hooks:\n",
        "        selected_hook_names.append(module_name)\n",
        "        selected_hook_classes.append(module.__class__.__name__)"
      ],
      "metadata": {
        "id": "j6uXYJ3xynVK"
      },
      "id": "j6uXYJ3xynVK",
      "execution_count": null,
      "outputs": []
    },
    {
      "cell_type": "code",
      "execution_count": null,
      "id": "5d50c91c",
      "metadata": {
        "id": "5d50c91c",
        "outputId": "6dc90615-9610-420e-bc9c-6cd0edf6807f"
      },
      "outputs": [
        {
          "name": "stdout",
          "output_type": "stream",
          "text": [
            "features.0                     : [3000, 64, 32, 32] \tcsi = 0.3403\n",
            "features.1                     : [3000, 64, 32, 32] \tcsi = 0.3570\n",
            "features.2                     : [3000, 64, 32, 32] \tcsi = 0.3833\n",
            "features.3                     : [3000, 64, 32, 32] \tcsi = 0.3900\n",
            "features.4                     : [3000, 64, 32, 32] \tcsi = 0.4097\n",
            "features.5                     : [3000, 64, 32, 32] \tcsi = 0.4727\n",
            "features.6                     : [3000, 64, 16, 16] \tcsi = 0.4670\n",
            "features.7                     : [3000, 128, 16, 16] \tcsi = 0.4353\n",
            "features.8                     : [3000, 128, 16, 16] \tcsi = 0.4383\n",
            "features.9                     : [3000, 128, 16, 16] \tcsi = 0.5720\n",
            "features.10                    : [3000, 128, 16, 16] \tcsi = 0.5700\n",
            "features.11                    : [3000, 128, 16, 16] \tcsi = 0.5737\n",
            "features.12                    : [3000, 128, 16, 16] \tcsi = 0.6410\n",
            "features.13                    : [3000, 128, 8, 8] \tcsi = 0.6587\n",
            "features.14                    : [3000, 256, 8, 8] \tcsi = 0.6690\n",
            "features.15                    : [3000, 256, 8, 8] \tcsi = 0.6693\n",
            "features.16                    : [3000, 256, 8, 8] \tcsi = 0.7000\n",
            "features.17                    : [3000, 256, 8, 8] \tcsi = 0.7200\n",
            "features.18                    : [3000, 256, 8, 8] \tcsi = 0.7210\n",
            "features.19                    : [3000, 256, 8, 8] \tcsi = 0.7523\n",
            "features.20                    : [3000, 256, 8, 8] \tcsi = 0.7643\n",
            "features.21                    : [3000, 256, 8, 8] \tcsi = 0.7627\n",
            "features.22                    : [3000, 256, 8, 8] \tcsi = 0.8127\n",
            "features.23                    : [3000, 256, 4, 4] \tcsi = 0.8440\n",
            "features.24                    : [3000, 512, 4, 4] \tcsi = 0.8817\n",
            "features.25                    : [3000, 512, 4, 4] \tcsi = 0.8810\n",
            "features.26                    : [3000, 512, 4, 4] \tcsi = 0.9060\n",
            "features.27                    : [3000, 512, 4, 4] \tcsi = 0.9307\n",
            "features.28                    : [3000, 512, 4, 4] \tcsi = 0.9323\n",
            "features.29                    : [3000, 512, 4, 4] \tcsi = 0.9330\n",
            "features.30                    : [3000, 512, 4, 4] \tcsi = 0.9420\n",
            "features.31                    : [3000, 512, 4, 4] \tcsi = 0.9430\n",
            "features.32                    : [3000, 512, 4, 4] \tcsi = 0.9380\n",
            "features.33                    : [3000, 512, 2, 2] \tcsi = 0.9493\n",
            "features.34                    : [3000, 512, 2, 2] \tcsi = 0.9530\n",
            "features.35                    : [3000, 512, 2, 2] \tcsi = 0.9530\n",
            "features.36                    : [3000, 512, 2, 2] \tcsi = 0.9597\n",
            "features.37                    : [3000, 512, 2, 2] \tcsi = 0.9617\n",
            "features.38                    : [3000, 512, 2, 2] \tcsi = 0.9617\n",
            "features.39                    : [3000, 512, 2, 2] \tcsi = 0.9537\n",
            "features.40                    : [3000, 512, 2, 2] \tcsi = 0.9587\n",
            "features.41                    : [3000, 512, 2, 2] \tcsi = 0.9577\n",
            "features.42                    : [3000, 512, 2, 2] \tcsi = 0.9440\n",
            "features.43                    : [3000, 512, 1, 1] \tcsi = 0.9370\n",
            "avgpool                        : [3000, 512, 7, 7] \tcsi = 0.9370\n",
            "classifier.0                   : [3000, 4096] \tcsi = 0.9390\n",
            "classifier.1                   : [3000, 4096] \tcsi = 0.9430\n",
            "classifier.2                   : [3000, 4096] \tcsi = 0.9430\n",
            "classifier.3                   : [3000, 4096] \tcsi = 0.9540\n",
            "classifier.4                   : [3000, 4096] \tcsi = 0.9500\n",
            "classifier.5                   : [3000, 4096] \tcsi = 0.9500\n",
            "classifier.6                   : [3000, 10] \tcsi = 0.9630\n"
          ]
        }
      ],
      "source": [
        "hooks_si_train = []\n",
        "layer_names = []\n",
        "layer_indices = []\n",
        "\n",
        "#classes = torch.tensor(train_dataset.targets)\n",
        "imgs, labels = next(iter(balanced10_train_loader))\n",
        "imgs, labels = imgs.to(device), labels.to(device)\n",
        "\n",
        "with torch.no_grad():\n",
        "    for i, hook in enumerate(selected_hook_names):\n",
        "        hooked_model = create_feature_extractor(model, return_nodes=[hook]).to(device)\n",
        "        features = hooked_model(imgs)[hook]\n",
        "#         print(features.shape)\n",
        "#         print(labels.shape)\n",
        "        instance = center_si(features, labels, classes= range(10))\n",
        "        hooks_si_train.append(instance.detach())\n",
        "\n",
        "        # Store layer name and index for plotting\n",
        "        layer_names.append(hook)\n",
        "        layer_indices.append(i)\n",
        "\n",
        "        print(\"{:<30} : {} \\tcsi = {:.4f}\".format(hook, list(features.shape), hooks_si_train[-1]))\n"
      ]
    },
    {
      "cell_type": "code",
      "execution_count": null,
      "id": "78637ea6",
      "metadata": {
        "id": "78637ea6",
        "outputId": "07252b33-b81a-4157-fa36-255af1a59b20"
      },
      "outputs": [
        {
          "data": {
            "image/png": "[encoded data removed]",
            "text/plain": [
              "<Figure size 864x432 with 1 Axes>"
            ]
          },
          "metadata": {
            "needs_background": "light"
          },
          "output_type": "display_data"
        }
      ],
      "source": [
        "hooks_si_train = [si.cpu().numpy() for si in hooks_si_train]\n",
        "plt.figure(figsize=(12, 6))\n",
        "# Plotting the SI based on the number of layers\n",
        "plt.plot(layer_indices, hooks_si_train, marker='o')\n",
        "plt.xticks(layer_indices)\n",
        "plt.xlabel('Layer')\n",
        "plt.ylabel('Separation Index (SI)')\n",
        "plt.title('Separation Index (SI) Across Layers for Train data')\n",
        "plt.tight_layout()\n",
        "plt.show()"
      ]
    },
    {
      "cell_type": "code",
      "execution_count": null,
      "id": "d5f25a63",
      "metadata": {
        "scrolled": false,
        "id": "d5f25a63",
        "outputId": "e9607e68-79ba-4dfb-e17b-aadcda9163aa"
      },
      "outputs": [
        {
          "name": "stdout",
          "output_type": "stream",
          "text": [
            "features.0                     : [1000, 64, 32, 32] \tsi = 0.3810\n",
            "features.1                     : [1000, 64, 32, 32] \tsi = 0.4140\n",
            "features.2                     : [1000, 64, 32, 32] \tsi = 0.4940\n",
            "features.3                     : [1000, 64, 32, 32] \tsi = 0.5960\n",
            "features.4                     : [1000, 64, 32, 32] \tsi = 0.5890\n",
            "features.5                     : [1000, 64, 32, 32] \tsi = 0.6820\n",
            "features.6                     : [1000, 64, 16, 16] \tsi = 0.6610\n",
            "features.7                     : [1000, 128, 16, 16] \tsi = 0.6520\n",
            "features.8                     : [1000, 128, 16, 16] \tsi = 0.6580\n",
            "features.9                     : [1000, 128, 16, 16] \tsi = 0.7050\n",
            "features.10                    : [1000, 128, 16, 16] \tsi = 0.6830\n",
            "features.11                    : [1000, 128, 16, 16] \tsi = 0.6870\n",
            "features.12                    : [1000, 128, 16, 16] \tsi = 0.7580\n",
            "features.13                    : [1000, 128, 8, 8] \tsi = 0.7450\n",
            "features.14                    : [1000, 256, 8, 8] \tsi = 0.7280\n",
            "features.15                    : [1000, 256, 8, 8] \tsi = 0.7290\n",
            "features.16                    : [1000, 256, 8, 8] \tsi = 0.7610\n",
            "features.17                    : [1000, 256, 8, 8] \tsi = 0.7700\n",
            "features.18                    : [1000, 256, 8, 8] \tsi = 0.7660\n",
            "features.19                    : [1000, 256, 8, 8] \tsi = 0.8050\n",
            "features.20                    : [1000, 256, 8, 8] \tsi = 0.7930\n",
            "features.21                    : [1000, 256, 8, 8] \tsi = 0.7920\n",
            "features.22                    : [1000, 256, 8, 8] \tsi = 0.8300\n",
            "features.23                    : [1000, 256, 4, 4] \tsi = 0.8420\n",
            "features.24                    : [1000, 512, 4, 4] \tsi = 0.8630\n",
            "features.25                    : [1000, 512, 4, 4] \tsi = 0.8620\n",
            "features.26                    : [1000, 512, 4, 4] \tsi = 0.8750\n",
            "features.27                    : [1000, 512, 4, 4] \tsi = 0.8910\n",
            "features.28                    : [1000, 512, 4, 4] \tsi = 0.8930\n",
            "features.29                    : [1000, 512, 4, 4] \tsi = 0.8970\n",
            "features.30                    : [1000, 512, 4, 4] \tsi = 0.9000\n",
            "features.31                    : [1000, 512, 4, 4] \tsi = 0.8990\n",
            "features.32                    : [1000, 512, 4, 4] \tsi = 0.8990\n",
            "features.33                    : [1000, 512, 2, 2] \tsi = 0.9000\n",
            "features.34                    : [1000, 512, 2, 2] \tsi = 0.9040\n",
            "features.35                    : [1000, 512, 2, 2] \tsi = 0.9030\n",
            "features.36                    : [1000, 512, 2, 2] \tsi = 0.9030\n",
            "features.37                    : [1000, 512, 2, 2] \tsi = 0.9040\n",
            "features.38                    : [1000, 512, 2, 2] \tsi = 0.9070\n",
            "features.39                    : [1000, 512, 2, 2] \tsi = 0.8990\n",
            "features.40                    : [1000, 512, 2, 2] \tsi = 0.9020\n",
            "features.41                    : [1000, 512, 2, 2] \tsi = 0.9000\n",
            "features.42                    : [1000, 512, 2, 2] \tsi = 0.8860\n",
            "features.43                    : [1000, 512, 1, 1] \tsi = 0.8790\n",
            "avgpool                        : [1000, 512, 7, 7] \tsi = 0.8790\n",
            "classifier.0                   : [1000, 4096] \tsi = 0.8820\n",
            "classifier.1                   : [1000, 4096] \tsi = 0.8770\n",
            "classifier.2                   : [1000, 4096] \tsi = 0.8770\n",
            "classifier.3                   : [1000, 4096] \tsi = 0.8980\n",
            "classifier.4                   : [1000, 4096] \tsi = 0.8930\n",
            "classifier.5                   : [1000, 4096] \tsi = 0.8930\n",
            "classifier.6                   : [1000, 10] \tsi = 0.9070\n"
          ]
        }
      ],
      "source": [
        "hooks_si_test = []\n",
        "\n",
        "layer_names_test = []\n",
        "layer_indices_test = []\n",
        "\n",
        "imgs_test, labels_test = next(iter(balanced10_test_loader))\n",
        "imgs_test, labels_test = imgs_test.to(device), labels_test.to(device)\n",
        "\n",
        "with torch.no_grad():\n",
        "    for i, hook in enumerate(selected_hook_names):\n",
        "        hooked_model = create_feature_extractor(model, return_nodes=[hook]).to(device)\n",
        "        features_test = hooked_model(imgs_test)[hook]\n",
        "        instance_test = center_si(features_test, labels_test, classes= range(10))\n",
        "        hooks_si_test.append(instance_test.detach())\n",
        "\n",
        "        # Store layer name and index for plotting\n",
        "        layer_names_test.append(hook)\n",
        "        layer_indices_test.append(i)\n",
        "\n",
        "        print(\"{:<30} : {} \\tsi = {:.4f}\".format(hook, list(features_test.shape), hooks_si_test[-1]))\n"
      ]
    },
    {
      "cell_type": "code",
      "execution_count": null,
      "id": "8af7cb06",
      "metadata": {
        "id": "8af7cb06",
        "outputId": "1d0ebd74-e59c-4862-8321-5288bbbab360"
      },
      "outputs": [
        {
          "data": {
            "image/png": "[encoded data removed]",
            "text/plain": [
              "<Figure size 864x432 with 1 Axes>"
            ]
          },
          "metadata": {
            "needs_background": "light"
          },
          "output_type": "display_data"
        }
      ],
      "source": [
        "import matplotlib.pyplot as plt\n",
        "\n",
        "hooks_si_test = [si.cpu().numpy() for si in hooks_si_test]\n",
        "plt.figure(figsize=(12, 6))\n",
        "plt.plot(layer_indices_test, hooks_si_test, marker='o')\n",
        "plt.xticks(layer_indices_test)\n",
        "plt.xlabel('Layer')\n",
        "plt.ylabel('Test Center Separation Index (CSI)')\n",
        "plt.title('Test Center Separation Index (CSI) Across Layers')\n",
        "plt.tight_layout()\n",
        "plt.show()"
      ]
    }
  ],
  "metadata": {
    "kernelspec": {
      "display_name": "Python 3 (ipykernel)",
      "language": "python",
      "name": "python3"
    },
    "language_info": {
      "codemirror_mode": {
        "name": "ipython",
        "version": 3
      },
      "file_extension": ".py",
      "mimetype": "text/x-python",
      "name": "python",
      "nbconvert_exporter": "python",
      "pygments_lexer": "ipython3",
      "version": "3.9.7"
    },
    "colab": {
      "provenance": []
    }
  },
  "nbformat": 4,
  "nbformat_minor": 5
}